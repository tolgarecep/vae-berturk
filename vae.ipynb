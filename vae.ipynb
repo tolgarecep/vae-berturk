{
  "cells": [
    {
      "cell_type": "code",
      "execution_count": null,
      "metadata": {
        "colab": {
          "base_uri": "https://localhost:8080/"
        },
        "id": "s9cmMUd_OEqa",
        "outputId": "4015bb62-559a-43d0-a3db-54233ede42b9"
      },
      "outputs": [
        {
          "output_type": "stream",
          "name": "stdout",
          "text": [
            "Cloning into 'text-autoencoders'...\n",
            "remote: Enumerating objects: 114, done.\u001b[K\n",
            "remote: Counting objects: 100% (61/61), done.\u001b[K\n",
            "remote: Compressing objects: 100% (14/14), done.\u001b[K\n",
            "remote: Total 114 (delta 54), reused 47 (delta 47), pack-reused 53\u001b[K\n",
            "Receiving objects: 100% (114/114), 262.33 KiB | 3.64 MiB/s, done.\n",
            "Resolving deltas: 100% (63/63), done.\n"
          ]
        }
      ],
      "source": [
        "!git clone https://github.com/shentianxiao/text-autoencoders.git"
      ]
    },
    {
      "cell_type": "markdown",
      "metadata": {
        "id": "0jpMvrc2eedy"
      },
      "source": [
        "Training set - epoch experiments: Change `--train`, `--epochs`, `--valid`, `--save-dir`  \n",
        "dim_z experiments: Change `--dim_z` "
      ]
    },
    {
      "cell_type": "code",
      "execution_count": null,
      "metadata": {
        "colab": {
          "background_save": true
        },
        "id": "6ku0vHiLOdai"
      },
      "outputs": [],
      "source": [
        "!python /content/text-autoencoders/train.py --train /content/drive/MyDrive/tr_corpus_vae/tr_corpus_3000.txt --epochs 1 --dim_z 256 --valid /content/drive/MyDrive/tr_corpus_vae/tr_corpus_val_for_3000.txt --model_type vae --lambda_kl 0.1 --vocab-size 50000 --save-dir /content/drive/MyDrive/tr_corpus_vae/vae_3000_1"
      ]
    }
  ],
  "metadata": {
    "accelerator": "TPU",
    "colab": {
      "collapsed_sections": [],
      "machine_shape": "hm",
      "provenance": []
    },
    "gpuClass": "standard",
    "kernelspec": {
      "display_name": "Python 3",
      "name": "python3"
    },
    "language_info": {
      "name": "python"
    }
  },
  "nbformat": 4,
  "nbformat_minor": 0
}