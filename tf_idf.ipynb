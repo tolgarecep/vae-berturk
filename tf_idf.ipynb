{
  "nbformat": 4,
  "nbformat_minor": 0,
  "metadata": {
    "colab": {
      "provenance": [],
      "collapsed_sections": []
    },
    "kernelspec": {
      "name": "python3",
      "display_name": "Python 3"
    },
    "language_info": {
      "name": "python"
    },
    "gpuClass": "standard"
  },
  "cells": [
    {
      "cell_type": "code",
      "source": [
        "import pandas as pd\n",
        "import numpy as np\n",
        "import os\n",
        "\n",
        "from sklearn.model_selection import GridSearchCV\n",
        "from sklearn.svm import SVC\n",
        "from sklearn.metrics import f1_score\n",
        "\n",
        "from sklearn.feature_extraction.text import TfidfVectorizer, CountVectorizer\n",
        "from wordcloud import WordCloud"
      ],
      "metadata": {
        "id": "tg1RpwfxCgW2"
      },
      "execution_count": null,
      "outputs": []
    },
    {
      "cell_type": "code",
      "source": [
        "train = pd.read_csv('/content/drive/MyDrive/ticaret/ticaret_train.csv')['text'].to_numpy()\n",
        "test = pd.read_csv('/content/drive/MyDrive/ticaret/ticaret_test.csv')['text'].to_numpy()"
      ],
      "metadata": {
        "id": "37WnCsELn05H"
      },
      "execution_count": null,
      "outputs": []
    },
    {
      "cell_type": "code",
      "source": [
        "y_train = np.load('/content/drive/MyDrive/ticaret/y_train.npy')\n",
        "y_test = np.load('/content/drive/MyDrive/ticaret/y_test.npy')"
      ],
      "metadata": {
        "id": "jNfOioF8oPqQ"
      },
      "execution_count": null,
      "outputs": []
    },
    {
      "cell_type": "code",
      "source": [
        "tfidf = TfidfVectorizer(decode_error='ignore', lowercase=False, min_df=2)\n",
        "# Numericalize the train dataset\n",
        "tfidf_train = tfidf.fit_transform(train.astype('U'))\n",
        "# Numericalize the test dataset\n",
        "tfidf_test = tfidf.transform(test.astype('U'))"
      ],
      "metadata": {
        "id": "0iKhIF_TGWIS"
      },
      "execution_count": null,
      "outputs": []
    },
    {
      "cell_type": "code",
      "source": [
        "tfidf_train.shape, tfidf_test.shape"
      ],
      "metadata": {
        "colab": {
          "base_uri": "https://localhost:8080/"
        },
        "id": "rlBHcMRu3yC8",
        "outputId": "40bdd403-a9e6-41fb-9779-59e8d3f3969a"
      },
      "execution_count": null,
      "outputs": [
        {
          "output_type": "execute_result",
          "data": {
            "text/plain": [
              "((5000, 14190), (1000, 14190))"
            ]
          },
          "metadata": {},
          "execution_count": 5
        }
      ]
    },
    {
      "cell_type": "code",
      "source": [
        "parameters = {'C':[0.01, 0.1, 1, 10, 100]}"
      ],
      "metadata": {
        "id": "yTvAouW4o3BH"
      },
      "execution_count": null,
      "outputs": []
    },
    {
      "cell_type": "code",
      "source": [
        "svm = SVC()\n",
        "clf = GridSearchCV(svm, parameters)\n",
        "clf.fit(tfidf_train, y_train)\n",
        "print(clf.best_params_)"
      ],
      "metadata": {
        "colab": {
          "base_uri": "https://localhost:8080/"
        },
        "id": "-jsb-oTzo4Gi",
        "outputId": "d2554db5-a8b9-4799-fe01-e2ed94bce704"
      },
      "execution_count": null,
      "outputs": [
        {
          "output_type": "stream",
          "name": "stdout",
          "text": [
            "{'C': 10}\n"
          ]
        }
      ]
    },
    {
      "cell_type": "code",
      "source": [
        "pred = clf.best_estimator_.predict(tfidf_test)"
      ],
      "metadata": {
        "id": "D0LPHbDdo50Z"
      },
      "execution_count": null,
      "outputs": []
    },
    {
      "cell_type": "code",
      "source": [
        "f1_score(y_test, pred, average='micro')"
      ],
      "metadata": {
        "colab": {
          "base_uri": "https://localhost:8080/"
        },
        "id": "5PpedQu5o7bs",
        "outputId": "0dcaaa04-cbba-4019-89bd-0c60f43c6199"
      },
      "execution_count": null,
      "outputs": [
        {
          "output_type": "execute_result",
          "data": {
            "text/plain": [
              "0.954"
            ]
          },
          "metadata": {},
          "execution_count": 9
        }
      ]
    }
  ]
}