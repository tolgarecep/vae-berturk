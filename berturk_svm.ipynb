{
  "nbformat": 4,
  "nbformat_minor": 0,
  "metadata": {
    "colab": {
      "provenance": [],
      "collapsed_sections": []
    },
    "kernelspec": {
      "name": "python3",
      "display_name": "Python 3"
    },
    "language_info": {
      "name": "python"
    },
    "gpuClass": "standard"
  },
  "cells": [
    {
      "cell_type": "code",
      "source": [
        "import numpy as np\n",
        "import pandas as pd"
      ],
      "metadata": {
        "id": "O3XZHIpSrzcr"
      },
      "execution_count": null,
      "outputs": []
    },
    {
      "cell_type": "code",
      "execution_count": null,
      "metadata": {
        "id": "KCQiZQoGq8QI"
      },
      "outputs": [],
      "source": [
        "train_berturk_rs = np.concatenate((np.load('/content/drive/MyDrive/ticaret/train_berturk_rs.npy'),\n",
        "           np.load('/content/drive/MyDrive/ticaret/train_berturk_rs_1.npy'),\n",
        "           np.load('/content/drive/MyDrive/ticaret/train_berturk_rs_2.npy'),\n",
        "           np.load('/content/drive/MyDrive/ticaret/train_berturk_rs_3.npy'),\n",
        "           np.load('/content/drive/MyDrive/ticaret/train_berturk_rs_4.npy'),\n",
        "           np.load('/content/drive/MyDrive/ticaret/train_berturk_rs_5.npy'),\n",
        "           np.load('/content/drive/MyDrive/ticaret/train_berturk_rs_6.npy'),\n",
        "           np.load('/content/drive/MyDrive/ticaret/train_berturk_rs_7.npy'),\n",
        "           np.load('/content/drive/MyDrive/ticaret/train_berturk_rs_8.npy'),\n",
        "           np.load('/content/drive/MyDrive/ticaret/train_berturk_rs_9.npy'),\n",
        "           ))"
      ]
    },
    {
      "cell_type": "code",
      "source": [
        "train_berturk_rs.shape"
      ],
      "metadata": {
        "colab": {
          "base_uri": "https://localhost:8080/"
        },
        "id": "9GD8b3wpr-qp",
        "outputId": "cb268198-b5bf-4e48-f84d-a3d11df7d001"
      },
      "execution_count": null,
      "outputs": [
        {
          "output_type": "execute_result",
          "data": {
            "text/plain": [
              "(5000, 768)"
            ]
          },
          "metadata": {},
          "execution_count": 3
        }
      ]
    },
    {
      "cell_type": "code",
      "source": [
        "test_berturk_rs = np.concatenate((np.load('/content/drive/MyDrive/ticaret/test_berturk_rs.npy'),\n",
        "                                  np.load('/content/drive/MyDrive/ticaret/test_berturk_rs_1.npy')))"
      ],
      "metadata": {
        "id": "DMfuHOfLsCJi"
      },
      "execution_count": null,
      "outputs": []
    },
    {
      "cell_type": "code",
      "source": [
        "test_berturk_rs.shape"
      ],
      "metadata": {
        "colab": {
          "base_uri": "https://localhost:8080/"
        },
        "id": "06n0CBmfsRzz",
        "outputId": "8ebb6cce-39c8-4f03-881c-a0cb8b980963"
      },
      "execution_count": null,
      "outputs": [
        {
          "output_type": "execute_result",
          "data": {
            "text/plain": [
              "(1000, 768)"
            ]
          },
          "metadata": {},
          "execution_count": 5
        }
      ]
    },
    {
      "cell_type": "code",
      "source": [
        "y_train = np.load('/content/drive/MyDrive/ticaret/y_train.npy')\n",
        "y_test = np.load('/content/drive/MyDrive/ticaret/y_test.npy')"
      ],
      "metadata": {
        "id": "tHuMqSaesfiT"
      },
      "execution_count": null,
      "outputs": []
    },
    {
      "cell_type": "code",
      "source": [
        "from sklearn.model_selection import GridSearchCV\n",
        "from sklearn.svm import SVC\n",
        "from sklearn.metrics import f1_score"
      ],
      "metadata": {
        "id": "VjeeVw7VsUyJ"
      },
      "execution_count": null,
      "outputs": []
    },
    {
      "cell_type": "code",
      "source": [
        "parameters = {'C':[0.01, 0.1, 1, 10, 100]}"
      ],
      "metadata": {
        "id": "IWVPJyyziNuI"
      },
      "execution_count": null,
      "outputs": []
    },
    {
      "cell_type": "code",
      "source": [
        "svm = SVC()\n",
        "clf = GridSearchCV(svm, parameters)\n",
        "clf.fit(train_berturk_rs, y_train)\n",
        "print(clf.best_params_)"
      ],
      "metadata": {
        "id": "fn1M-yEGscFT",
        "colab": {
          "base_uri": "https://localhost:8080/"
        },
        "outputId": "1a468588-4ffb-42ba-d3e1-6f91b468d9a9"
      },
      "execution_count": null,
      "outputs": [
        {
          "output_type": "stream",
          "name": "stdout",
          "text": [
            "{'C': 100}\n"
          ]
        }
      ]
    },
    {
      "cell_type": "code",
      "source": [
        "pred = clf.best_estimator_.predict(test_berturk_rs)"
      ],
      "metadata": {
        "id": "89O0rCjNiPnM"
      },
      "execution_count": null,
      "outputs": []
    },
    {
      "cell_type": "code",
      "source": [
        "f1_score(y_test, pred, average='micro')"
      ],
      "metadata": {
        "colab": {
          "base_uri": "https://localhost:8080/"
        },
        "id": "5S2tP9HoiQ75",
        "outputId": "e5a5919a-296e-43d2-df3c-33749ae79f34"
      },
      "execution_count": null,
      "outputs": [
        {
          "output_type": "execute_result",
          "data": {
            "text/plain": [
              "0.9130000000000001"
            ]
          },
          "metadata": {},
          "execution_count": 11
        }
      ]
    }
  ]
}