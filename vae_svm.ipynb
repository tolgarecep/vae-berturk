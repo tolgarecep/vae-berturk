{
  "nbformat": 4,
  "nbformat_minor": 0,
  "metadata": {
    "colab": {
      "provenance": [],
      "collapsed_sections": [],
      "machine_shape": "hm"
    },
    "kernelspec": {
      "name": "python3",
      "display_name": "Python 3"
    },
    "language_info": {
      "name": "python"
    },
    "gpuClass": "standard",
    "accelerator": "GPU"
  },
  "cells": [
    {
      "cell_type": "code",
      "source": [
        "import numpy as np"
      ],
      "metadata": {
        "id": "lVgVPohlF0YI"
      },
      "execution_count": null,
      "outputs": []
    },
    {
      "cell_type": "code",
      "source": [
        "!pip install transformers"
      ],
      "metadata": {
        "id": "27BPYI5jIb0w"
      },
      "execution_count": null,
      "outputs": []
    },
    {
      "cell_type": "code",
      "source": [
        "from transformers import AutoTokenizer\n",
        "tokenizer = AutoTokenizer.from_pretrained(\"dbmdz/bert-base-turkish-cased\")"
      ],
      "metadata": {
        "id": "oBNz-N7cIc2p"
      },
      "execution_count": null,
      "outputs": []
    },
    {
      "cell_type": "code",
      "execution_count": null,
      "metadata": {
        "id": "RYNvFJjnE8vd"
      },
      "outputs": [],
      "source": [
        "!git clone https://github.com/shentianxiao/text-autoencoders.git"
      ]
    },
    {
      "cell_type": "code",
      "source": [
        "!python /content/text-autoencoders/test.py --reconstruct --data /content/drive/MyDrive/ticaret/train_tokens.txt --output train_10801_t --checkpoint /content/drive/MyDrive/tr_corpus_vae/vae_1080_1"
      ],
      "metadata": {
        "id": "wHgA9eKlE_pQ"
      },
      "execution_count": null,
      "outputs": []
    },
    {
      "cell_type": "code",
      "source": [
        "!python /content/text-autoencoders/test.py --reconstruct --data /content/drive/MyDrive/ticaret/test_tokens.txt --output test_10801_t --checkpoint /content/drive/MyDrive/tr_corpus_vae/vae_1080_1"
      ],
      "metadata": {
        "id": "EK6ae9kLFDLY"
      },
      "execution_count": null,
      "outputs": []
    },
    {
      "cell_type": "code",
      "source": [
        "train_list = open('/content/drive/MyDrive/tr_corpus_vae/vae_1080_1/train_10801_t.z').read().split('\\n')\n",
        "test_list = open('/content/drive/MyDrive/tr_corpus_vae/vae_1080_1/test_10801_t.z').read().split('\\n')"
      ],
      "metadata": {
        "id": "XDjG0Z4YM1Z1"
      },
      "execution_count": null,
      "outputs": []
    },
    {
      "cell_type": "code",
      "source": [
        "len(train_list), len(test_list)"
      ],
      "metadata": {
        "colab": {
          "base_uri": "https://localhost:8080/"
        },
        "id": "jiHLuqS1nKs2",
        "outputId": "f1e670bd-f67f-4f68-ff6f-545f11d20471"
      },
      "execution_count": null,
      "outputs": [
        {
          "output_type": "execute_result",
          "data": {
            "text/plain": [
              "(5001, 1001)"
            ]
          },
          "metadata": {},
          "execution_count": 45
        }
      ]
    },
    {
      "cell_type": "code",
      "source": [
        "train_list.pop()\n",
        "test_list.pop()"
      ],
      "metadata": {
        "colab": {
          "base_uri": "https://localhost:8080/",
          "height": 36
        },
        "id": "OPdyYknbOI9-",
        "outputId": "d0266700-6068-444e-eadf-821448571a8c"
      },
      "execution_count": null,
      "outputs": [
        {
          "output_type": "execute_result",
          "data": {
            "text/plain": [
              "''"
            ],
            "application/vnd.google.colaboratory.intrinsic+json": {
              "type": "string"
            }
          },
          "metadata": {},
          "execution_count": 46
        }
      ]
    },
    {
      "cell_type": "code",
      "source": [
        "from sklearn.model_selection import GridSearchCV\n",
        "from sklearn.svm import SVC\n",
        "from sklearn.metrics import f1_score"
      ],
      "metadata": {
        "id": "KImVdkLNveFm"
      },
      "execution_count": null,
      "outputs": []
    },
    {
      "cell_type": "code",
      "source": [
        "y_train = np.load('/content/drive/MyDrive/ticaret/y_train_e.npy')\n",
        "y_test = np.load('/content/drive/MyDrive/ticaret/y_test_e.npy')"
      ],
      "metadata": {
        "id": "5vwm1XLdsxcd"
      },
      "execution_count": null,
      "outputs": []
    },
    {
      "cell_type": "code",
      "source": [
        "def list_to_arr(split_list):\n",
        "  vectors = []\n",
        "  for r in split_list:\n",
        "    r_dims = r.split(' ')\n",
        "    r_dims.pop()\n",
        "    r_vector = np.array([float(i) for i in r_dims])\n",
        "    vectors.append(r_vector)\n",
        "  return np.array(vectors)\n",
        "\n",
        "def model_representations(train_rs, test_rs):\n",
        "  X_train = list_to_arr(train_rs)\n",
        "  X_test = list_to_arr(test_rs)\n",
        "  \n",
        "  parameters = {'C':[0.01, 0.1, 1, 10, 100]}\n",
        "  svm = SVC()\n",
        "  clf = GridSearchCV(svm, parameters)\n",
        "  clf.fit(X_train, y_train_e)\n",
        "  print(clf.best_params_)\n",
        "  pred = clf.best_estimator_.predict(X_test)\n",
        "  return f1_score(y_test_e, pred, average='micro')"
      ],
      "metadata": {
        "id": "RBXisRpZnWcD"
      },
      "execution_count": null,
      "outputs": []
    },
    {
      "cell_type": "code",
      "source": [
        "model_representations(train_list, test_list)"
      ],
      "metadata": {
        "colab": {
          "base_uri": "https://localhost:8080/"
        },
        "id": "LpyXgRLlpUXs",
        "outputId": "883a1454-57e5-4d56-e001-398a3ef91f10"
      },
      "execution_count": null,
      "outputs": [
        {
          "output_type": "stream",
          "name": "stdout",
          "text": [
            "{'C': 100}\n"
          ]
        },
        {
          "output_type": "execute_result",
          "data": {
            "text/plain": [
              "0.454"
            ]
          },
          "metadata": {},
          "execution_count": 47
        }
      ]
    }
  ]
}
