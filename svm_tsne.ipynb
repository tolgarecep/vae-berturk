{
  "nbformat": 4,
  "nbformat_minor": 0,
  "metadata": {
    "colab": {
      "name": "svm-tsne.ipynb",
      "provenance": [],
      "collapsed_sections": []
    },
    "kernelspec": {
      "name": "python3",
      "display_name": "Python 3"
    },
    "language_info": {
      "name": "python"
    }
  },
  "cells": [
    {
      "cell_type": "code",
      "source": [
        "import pandas as pd\n",
        "import numpy as np\n",
        "\n",
        "from sklearn.svm import SVC\n",
        "from sklearn.metrics import f1_score\n",
        "\n",
        "from sklearn.manifold import TSNE\n",
        "import seaborn as sns\n",
        "import matplotlib.pyplot as plt"
      ],
      "metadata": {
        "id": "qLzyL5yU5VQJ"
      },
      "execution_count": 12,
      "outputs": []
    },
    {
      "cell_type": "code",
      "source": [
        "for i in range(8):\n",
        "  print(np.load('/content/rs_run'+str(i)+'.npy').shape)"
      ],
      "metadata": {
        "colab": {
          "base_uri": "https://localhost:8080/"
        },
        "id": "VB37Zg8v7csr",
        "outputId": "33e929de-7943-4b86-b73e-8fd1f71f8798"
      },
      "execution_count": 13,
      "outputs": [
        {
          "output_type": "stream",
          "name": "stdout",
          "text": [
            "(1000, 768)\n",
            "(999, 768)\n",
            "(1000, 768)\n",
            "(1000, 768)\n",
            "(999, 768)\n",
            "(1000, 768)\n",
            "(1000, 768)\n",
            "(1000, 768)\n"
          ]
        }
      ]
    },
    {
      "cell_type": "code",
      "source": [
        "rs = np.load('/content/rs_run0.npy')\n",
        "for i in [2,3,5,6,7]:\n",
        "  rs = np.append(rs, np.load('/content/rs_run'+str(i)+'.npy'), axis=0)\n",
        "rs.shape"
      ],
      "metadata": {
        "id": "Ef7OfNdu51Xl",
        "colab": {
          "base_uri": "https://localhost:8080/"
        },
        "outputId": "35092260-21e7-4a57-80bd-93ad0158c421"
      },
      "execution_count": 14,
      "outputs": [
        {
          "output_type": "execute_result",
          "data": {
            "text/plain": [
              "(6000, 768)"
            ]
          },
          "metadata": {},
          "execution_count": 14
        }
      ]
    },
    {
      "cell_type": "code",
      "source": [
        "labels = np.load('/content/labels_run0.npy')\n",
        "for i in [2,3,5,6,7]:\n",
        "  labels = np.append(labels, np.load('/content/labels_run'+str(i)+'.npy'), axis=0)\n",
        "labels.shape"
      ],
      "metadata": {
        "colab": {
          "base_uri": "https://localhost:8080/"
        },
        "id": "7iQ34ANT65Z4",
        "outputId": "75861045-f08f-45fe-a0ba-d1b23ed9b819"
      },
      "execution_count": 15,
      "outputs": [
        {
          "output_type": "execute_result",
          "data": {
            "text/plain": [
              "(6000,)"
            ]
          },
          "metadata": {},
          "execution_count": 15
        }
      ]
    },
    {
      "cell_type": "code",
      "source": [
        "rs_df = pd.DataFrame(rs)\n",
        "rs_df['label'] = labels\n",
        "rs_df"
      ],
      "metadata": {
        "id": "VTvH6iz45ehD",
        "colab": {
          "base_uri": "https://localhost:8080/",
          "height": 488
        },
        "outputId": "aefbef08-51dc-4af8-92fc-91fb7b4f8d2d"
      },
      "execution_count": 16,
      "outputs": [
        {
          "output_type": "execute_result",
          "data": {
            "text/plain": [
              "             0         1         2         3         4         5         6  \\\n",
              "0    -0.111850 -0.047292  0.314831  0.024424  0.172963  0.177709  0.447940   \n",
              "1     0.194082 -0.187055  0.377856 -0.146842  0.321487 -0.085262  0.108012   \n",
              "2     0.023409  0.010746  0.391925 -0.260741  0.185466  0.233827  0.006150   \n",
              "3    -0.549600 -0.097521 -0.437947 -1.532221 -0.375668 -0.949867 -0.062504   \n",
              "4     0.058370  0.001277 -0.095154 -0.239700 -0.109208  0.464216  0.122560   \n",
              "...        ...       ...       ...       ...       ...       ...       ...   \n",
              "5995 -0.114945  0.192614  0.268694 -0.277607  0.042133  0.110703 -0.218293   \n",
              "5996  0.099815  0.497901  0.226527 -0.316144  0.104292  0.385446 -0.519038   \n",
              "5997 -0.515141 -0.052406  0.116848 -0.162329 -0.369818  0.364685 -0.146613   \n",
              "5998 -0.008511 -0.110366  0.397442 -0.969324  0.469003 -0.115269  0.700981   \n",
              "5999  0.462597  0.029149 -0.169680 -0.355479 -0.282687  0.484864 -0.147601   \n",
              "\n",
              "             7         8         9  ...       759       760       761  \\\n",
              "0    -0.117461 -0.087921  0.816235  ... -0.351673 -0.004751 -0.413187   \n",
              "1    -0.092355 -0.045724  0.560916  ... -0.310017  0.051185  0.158953   \n",
              "2    -0.262124 -1.231958  0.538237  ... -0.204519  0.255298  0.228244   \n",
              "3     0.063129  0.115954  0.720967  ...  0.083139 -0.127326 -0.400052   \n",
              "4    -0.102409 -1.307943  0.410315  ... -0.229918  0.244019 -0.022367   \n",
              "...        ...       ...       ...  ...       ...       ...       ...   \n",
              "5995 -0.372159 -0.782143  0.560011  ... -0.322317  0.491327  0.239370   \n",
              "5996  0.660239 -1.322834 -0.062606  ... -0.659651  0.161216 -0.053004   \n",
              "5997 -0.639218 -0.731258  0.445758  ... -0.020115  0.476688  0.109389   \n",
              "5998  0.376902 -0.420464  0.900537  ... -0.906762  0.209600 -1.238712   \n",
              "5999 -0.259303 -1.666816  0.434529  ... -0.153641  0.344674  0.003905   \n",
              "\n",
              "           762       763       764       765       766       767  label  \n",
              "0    -1.069411 -0.327839 -0.634110  0.028920  0.124223 -0.686594      1  \n",
              "1    -0.796537 -0.246163 -0.148598  0.062885  0.457231 -0.144166      0  \n",
              "2    -0.508031  0.342608 -0.577117  0.165032  0.543979 -1.105228      1  \n",
              "3    -1.484829 -0.364055 -0.396035 -0.303697  0.234339 -1.639419      1  \n",
              "4    -0.099446 -0.102019 -0.266459  0.329511  1.021789 -1.416329      0  \n",
              "...        ...       ...       ...       ...       ...       ...    ...  \n",
              "5995 -0.369294 -0.068998 -0.365135  0.317436  0.559527 -1.197390      1  \n",
              "5996 -0.281215 -0.304837 -0.403360  0.326957  0.937379 -1.255321      0  \n",
              "5997 -0.658404 -0.245235 -0.210023  0.270596  0.449433 -0.738800      1  \n",
              "5998 -1.226119  0.248067 -0.155285 -0.071204  0.693660 -1.180385      0  \n",
              "5999 -0.183307 -0.050633 -0.233586  0.401697  0.873857 -1.494789      1  \n",
              "\n",
              "[6000 rows x 769 columns]"
            ],
            "text/html": [
              "\n",
              "  <div id=\"df-1144818a-5d17-453c-bee7-cf7424cf909f\">\n",
              "    <div class=\"colab-df-container\">\n",
              "      <div>\n",
              "<style scoped>\n",
              "    .dataframe tbody tr th:only-of-type {\n",
              "        vertical-align: middle;\n",
              "    }\n",
              "\n",
              "    .dataframe tbody tr th {\n",
              "        vertical-align: top;\n",
              "    }\n",
              "\n",
              "    .dataframe thead th {\n",
              "        text-align: right;\n",
              "    }\n",
              "</style>\n",
              "<table border=\"1\" class=\"dataframe\">\n",
              "  <thead>\n",
              "    <tr style=\"text-align: right;\">\n",
              "      <th></th>\n",
              "      <th>0</th>\n",
              "      <th>1</th>\n",
              "      <th>2</th>\n",
              "      <th>3</th>\n",
              "      <th>4</th>\n",
              "      <th>5</th>\n",
              "      <th>6</th>\n",
              "      <th>7</th>\n",
              "      <th>8</th>\n",
              "      <th>9</th>\n",
              "      <th>...</th>\n",
              "      <th>759</th>\n",
              "      <th>760</th>\n",
              "      <th>761</th>\n",
              "      <th>762</th>\n",
              "      <th>763</th>\n",
              "      <th>764</th>\n",
              "      <th>765</th>\n",
              "      <th>766</th>\n",
              "      <th>767</th>\n",
              "      <th>label</th>\n",
              "    </tr>\n",
              "  </thead>\n",
              "  <tbody>\n",
              "    <tr>\n",
              "      <th>0</th>\n",
              "      <td>-0.111850</td>\n",
              "      <td>-0.047292</td>\n",
              "      <td>0.314831</td>\n",
              "      <td>0.024424</td>\n",
              "      <td>0.172963</td>\n",
              "      <td>0.177709</td>\n",
              "      <td>0.447940</td>\n",
              "      <td>-0.117461</td>\n",
              "      <td>-0.087921</td>\n",
              "      <td>0.816235</td>\n",
              "      <td>...</td>\n",
              "      <td>-0.351673</td>\n",
              "      <td>-0.004751</td>\n",
              "      <td>-0.413187</td>\n",
              "      <td>-1.069411</td>\n",
              "      <td>-0.327839</td>\n",
              "      <td>-0.634110</td>\n",
              "      <td>0.028920</td>\n",
              "      <td>0.124223</td>\n",
              "      <td>-0.686594</td>\n",
              "      <td>1</td>\n",
              "    </tr>\n",
              "    <tr>\n",
              "      <th>1</th>\n",
              "      <td>0.194082</td>\n",
              "      <td>-0.187055</td>\n",
              "      <td>0.377856</td>\n",
              "      <td>-0.146842</td>\n",
              "      <td>0.321487</td>\n",
              "      <td>-0.085262</td>\n",
              "      <td>0.108012</td>\n",
              "      <td>-0.092355</td>\n",
              "      <td>-0.045724</td>\n",
              "      <td>0.560916</td>\n",
              "      <td>...</td>\n",
              "      <td>-0.310017</td>\n",
              "      <td>0.051185</td>\n",
              "      <td>0.158953</td>\n",
              "      <td>-0.796537</td>\n",
              "      <td>-0.246163</td>\n",
              "      <td>-0.148598</td>\n",
              "      <td>0.062885</td>\n",
              "      <td>0.457231</td>\n",
              "      <td>-0.144166</td>\n",
              "      <td>0</td>\n",
              "    </tr>\n",
              "    <tr>\n",
              "      <th>2</th>\n",
              "      <td>0.023409</td>\n",
              "      <td>0.010746</td>\n",
              "      <td>0.391925</td>\n",
              "      <td>-0.260741</td>\n",
              "      <td>0.185466</td>\n",
              "      <td>0.233827</td>\n",
              "      <td>0.006150</td>\n",
              "      <td>-0.262124</td>\n",
              "      <td>-1.231958</td>\n",
              "      <td>0.538237</td>\n",
              "      <td>...</td>\n",
              "      <td>-0.204519</td>\n",
              "      <td>0.255298</td>\n",
              "      <td>0.228244</td>\n",
              "      <td>-0.508031</td>\n",
              "      <td>0.342608</td>\n",
              "      <td>-0.577117</td>\n",
              "      <td>0.165032</td>\n",
              "      <td>0.543979</td>\n",
              "      <td>-1.105228</td>\n",
              "      <td>1</td>\n",
              "    </tr>\n",
              "    <tr>\n",
              "      <th>3</th>\n",
              "      <td>-0.549600</td>\n",
              "      <td>-0.097521</td>\n",
              "      <td>-0.437947</td>\n",
              "      <td>-1.532221</td>\n",
              "      <td>-0.375668</td>\n",
              "      <td>-0.949867</td>\n",
              "      <td>-0.062504</td>\n",
              "      <td>0.063129</td>\n",
              "      <td>0.115954</td>\n",
              "      <td>0.720967</td>\n",
              "      <td>...</td>\n",
              "      <td>0.083139</td>\n",
              "      <td>-0.127326</td>\n",
              "      <td>-0.400052</td>\n",
              "      <td>-1.484829</td>\n",
              "      <td>-0.364055</td>\n",
              "      <td>-0.396035</td>\n",
              "      <td>-0.303697</td>\n",
              "      <td>0.234339</td>\n",
              "      <td>-1.639419</td>\n",
              "      <td>1</td>\n",
              "    </tr>\n",
              "    <tr>\n",
              "      <th>4</th>\n",
              "      <td>0.058370</td>\n",
              "      <td>0.001277</td>\n",
              "      <td>-0.095154</td>\n",
              "      <td>-0.239700</td>\n",
              "      <td>-0.109208</td>\n",
              "      <td>0.464216</td>\n",
              "      <td>0.122560</td>\n",
              "      <td>-0.102409</td>\n",
              "      <td>-1.307943</td>\n",
              "      <td>0.410315</td>\n",
              "      <td>...</td>\n",
              "      <td>-0.229918</td>\n",
              "      <td>0.244019</td>\n",
              "      <td>-0.022367</td>\n",
              "      <td>-0.099446</td>\n",
              "      <td>-0.102019</td>\n",
              "      <td>-0.266459</td>\n",
              "      <td>0.329511</td>\n",
              "      <td>1.021789</td>\n",
              "      <td>-1.416329</td>\n",
              "      <td>0</td>\n",
              "    </tr>\n",
              "    <tr>\n",
              "      <th>...</th>\n",
              "      <td>...</td>\n",
              "      <td>...</td>\n",
              "      <td>...</td>\n",
              "      <td>...</td>\n",
              "      <td>...</td>\n",
              "      <td>...</td>\n",
              "      <td>...</td>\n",
              "      <td>...</td>\n",
              "      <td>...</td>\n",
              "      <td>...</td>\n",
              "      <td>...</td>\n",
              "      <td>...</td>\n",
              "      <td>...</td>\n",
              "      <td>...</td>\n",
              "      <td>...</td>\n",
              "      <td>...</td>\n",
              "      <td>...</td>\n",
              "      <td>...</td>\n",
              "      <td>...</td>\n",
              "      <td>...</td>\n",
              "      <td>...</td>\n",
              "    </tr>\n",
              "    <tr>\n",
              "      <th>5995</th>\n",
              "      <td>-0.114945</td>\n",
              "      <td>0.192614</td>\n",
              "      <td>0.268694</td>\n",
              "      <td>-0.277607</td>\n",
              "      <td>0.042133</td>\n",
              "      <td>0.110703</td>\n",
              "      <td>-0.218293</td>\n",
              "      <td>-0.372159</td>\n",
              "      <td>-0.782143</td>\n",
              "      <td>0.560011</td>\n",
              "      <td>...</td>\n",
              "      <td>-0.322317</td>\n",
              "      <td>0.491327</td>\n",
              "      <td>0.239370</td>\n",
              "      <td>-0.369294</td>\n",
              "      <td>-0.068998</td>\n",
              "      <td>-0.365135</td>\n",
              "      <td>0.317436</td>\n",
              "      <td>0.559527</td>\n",
              "      <td>-1.197390</td>\n",
              "      <td>1</td>\n",
              "    </tr>\n",
              "    <tr>\n",
              "      <th>5996</th>\n",
              "      <td>0.099815</td>\n",
              "      <td>0.497901</td>\n",
              "      <td>0.226527</td>\n",
              "      <td>-0.316144</td>\n",
              "      <td>0.104292</td>\n",
              "      <td>0.385446</td>\n",
              "      <td>-0.519038</td>\n",
              "      <td>0.660239</td>\n",
              "      <td>-1.322834</td>\n",
              "      <td>-0.062606</td>\n",
              "      <td>...</td>\n",
              "      <td>-0.659651</td>\n",
              "      <td>0.161216</td>\n",
              "      <td>-0.053004</td>\n",
              "      <td>-0.281215</td>\n",
              "      <td>-0.304837</td>\n",
              "      <td>-0.403360</td>\n",
              "      <td>0.326957</td>\n",
              "      <td>0.937379</td>\n",
              "      <td>-1.255321</td>\n",
              "      <td>0</td>\n",
              "    </tr>\n",
              "    <tr>\n",
              "      <th>5997</th>\n",
              "      <td>-0.515141</td>\n",
              "      <td>-0.052406</td>\n",
              "      <td>0.116848</td>\n",
              "      <td>-0.162329</td>\n",
              "      <td>-0.369818</td>\n",
              "      <td>0.364685</td>\n",
              "      <td>-0.146613</td>\n",
              "      <td>-0.639218</td>\n",
              "      <td>-0.731258</td>\n",
              "      <td>0.445758</td>\n",
              "      <td>...</td>\n",
              "      <td>-0.020115</td>\n",
              "      <td>0.476688</td>\n",
              "      <td>0.109389</td>\n",
              "      <td>-0.658404</td>\n",
              "      <td>-0.245235</td>\n",
              "      <td>-0.210023</td>\n",
              "      <td>0.270596</td>\n",
              "      <td>0.449433</td>\n",
              "      <td>-0.738800</td>\n",
              "      <td>1</td>\n",
              "    </tr>\n",
              "    <tr>\n",
              "      <th>5998</th>\n",
              "      <td>-0.008511</td>\n",
              "      <td>-0.110366</td>\n",
              "      <td>0.397442</td>\n",
              "      <td>-0.969324</td>\n",
              "      <td>0.469003</td>\n",
              "      <td>-0.115269</td>\n",
              "      <td>0.700981</td>\n",
              "      <td>0.376902</td>\n",
              "      <td>-0.420464</td>\n",
              "      <td>0.900537</td>\n",
              "      <td>...</td>\n",
              "      <td>-0.906762</td>\n",
              "      <td>0.209600</td>\n",
              "      <td>-1.238712</td>\n",
              "      <td>-1.226119</td>\n",
              "      <td>0.248067</td>\n",
              "      <td>-0.155285</td>\n",
              "      <td>-0.071204</td>\n",
              "      <td>0.693660</td>\n",
              "      <td>-1.180385</td>\n",
              "      <td>0</td>\n",
              "    </tr>\n",
              "    <tr>\n",
              "      <th>5999</th>\n",
              "      <td>0.462597</td>\n",
              "      <td>0.029149</td>\n",
              "      <td>-0.169680</td>\n",
              "      <td>-0.355479</td>\n",
              "      <td>-0.282687</td>\n",
              "      <td>0.484864</td>\n",
              "      <td>-0.147601</td>\n",
              "      <td>-0.259303</td>\n",
              "      <td>-1.666816</td>\n",
              "      <td>0.434529</td>\n",
              "      <td>...</td>\n",
              "      <td>-0.153641</td>\n",
              "      <td>0.344674</td>\n",
              "      <td>0.003905</td>\n",
              "      <td>-0.183307</td>\n",
              "      <td>-0.050633</td>\n",
              "      <td>-0.233586</td>\n",
              "      <td>0.401697</td>\n",
              "      <td>0.873857</td>\n",
              "      <td>-1.494789</td>\n",
              "      <td>1</td>\n",
              "    </tr>\n",
              "  </tbody>\n",
              "</table>\n",
              "<p>6000 rows × 769 columns</p>\n",
              "</div>\n",
              "      <button class=\"colab-df-convert\" onclick=\"convertToInteractive('df-1144818a-5d17-453c-bee7-cf7424cf909f')\"\n",
              "              title=\"Convert this dataframe to an interactive table.\"\n",
              "              style=\"display:none;\">\n",
              "        \n",
              "  <svg xmlns=\"http://www.w3.org/2000/svg\" height=\"24px\"viewBox=\"0 0 24 24\"\n",
              "       width=\"24px\">\n",
              "    <path d=\"M0 0h24v24H0V0z\" fill=\"none\"/>\n",
              "    <path d=\"M18.56 5.44l.94 2.06.94-2.06 2.06-.94-2.06-.94-.94-2.06-.94 2.06-2.06.94zm-11 1L8.5 8.5l.94-2.06 2.06-.94-2.06-.94L8.5 2.5l-.94 2.06-2.06.94zm10 10l.94 2.06.94-2.06 2.06-.94-2.06-.94-.94-2.06-.94 2.06-2.06.94z\"/><path d=\"M17.41 7.96l-1.37-1.37c-.4-.4-.92-.59-1.43-.59-.52 0-1.04.2-1.43.59L10.3 9.45l-7.72 7.72c-.78.78-.78 2.05 0 2.83L4 21.41c.39.39.9.59 1.41.59.51 0 1.02-.2 1.41-.59l7.78-7.78 2.81-2.81c.8-.78.8-2.07 0-2.86zM5.41 20L4 18.59l7.72-7.72 1.47 1.35L5.41 20z\"/>\n",
              "  </svg>\n",
              "      </button>\n",
              "      \n",
              "  <style>\n",
              "    .colab-df-container {\n",
              "      display:flex;\n",
              "      flex-wrap:wrap;\n",
              "      gap: 12px;\n",
              "    }\n",
              "\n",
              "    .colab-df-convert {\n",
              "      background-color: #E8F0FE;\n",
              "      border: none;\n",
              "      border-radius: 50%;\n",
              "      cursor: pointer;\n",
              "      display: none;\n",
              "      fill: #1967D2;\n",
              "      height: 32px;\n",
              "      padding: 0 0 0 0;\n",
              "      width: 32px;\n",
              "    }\n",
              "\n",
              "    .colab-df-convert:hover {\n",
              "      background-color: #E2EBFA;\n",
              "      box-shadow: 0px 1px 2px rgba(60, 64, 67, 0.3), 0px 1px 3px 1px rgba(60, 64, 67, 0.15);\n",
              "      fill: #174EA6;\n",
              "    }\n",
              "\n",
              "    [theme=dark] .colab-df-convert {\n",
              "      background-color: #3B4455;\n",
              "      fill: #D2E3FC;\n",
              "    }\n",
              "\n",
              "    [theme=dark] .colab-df-convert:hover {\n",
              "      background-color: #434B5C;\n",
              "      box-shadow: 0px 1px 3px 1px rgba(0, 0, 0, 0.15);\n",
              "      filter: drop-shadow(0px 1px 2px rgba(0, 0, 0, 0.3));\n",
              "      fill: #FFFFFF;\n",
              "    }\n",
              "  </style>\n",
              "\n",
              "      <script>\n",
              "        const buttonEl =\n",
              "          document.querySelector('#df-1144818a-5d17-453c-bee7-cf7424cf909f button.colab-df-convert');\n",
              "        buttonEl.style.display =\n",
              "          google.colab.kernel.accessAllowed ? 'block' : 'none';\n",
              "\n",
              "        async function convertToInteractive(key) {\n",
              "          const element = document.querySelector('#df-1144818a-5d17-453c-bee7-cf7424cf909f');\n",
              "          const dataTable =\n",
              "            await google.colab.kernel.invokeFunction('convertToInteractive',\n",
              "                                                     [key], {});\n",
              "          if (!dataTable) return;\n",
              "\n",
              "          const docLinkHtml = 'Like what you see? Visit the ' +\n",
              "            '<a target=\"_blank\" href=https://colab.research.google.com/notebooks/data_table.ipynb>data table notebook</a>'\n",
              "            + ' to learn more about interactive tables.';\n",
              "          element.innerHTML = '';\n",
              "          dataTable['output_type'] = 'display_data';\n",
              "          await google.colab.output.renderOutput(dataTable, element);\n",
              "          const docLink = document.createElement('div');\n",
              "          docLink.innerHTML = docLinkHtml;\n",
              "          element.appendChild(docLink);\n",
              "        }\n",
              "      </script>\n",
              "    </div>\n",
              "  </div>\n",
              "  "
            ]
          },
          "metadata": {},
          "execution_count": 16
        }
      ]
    },
    {
      "cell_type": "code",
      "source": [
        "X_train = rs[:5000]\n",
        "X_test = rs[5000:]\n",
        "y_train = labels[:5000]\n",
        "y_test = labels[5000:]"
      ],
      "metadata": {
        "id": "5Df2KbhK8YEa"
      },
      "execution_count": 17,
      "outputs": []
    },
    {
      "cell_type": "code",
      "source": [
        "svm = SVC()"
      ],
      "metadata": {
        "id": "Be82X03n8gxd"
      },
      "execution_count": 18,
      "outputs": []
    },
    {
      "cell_type": "code",
      "source": [
        "svm.fit(X_train, y_train)\n",
        "pred = svm.predict(X_test)"
      ],
      "metadata": {
        "id": "78EBIoKM8hqf"
      },
      "execution_count": 19,
      "outputs": []
    },
    {
      "cell_type": "code",
      "source": [
        "f1_score(y_test, pred)"
      ],
      "metadata": {
        "colab": {
          "base_uri": "https://localhost:8080/"
        },
        "id": "q43JRuIP8kFh",
        "outputId": "deedb0f8-f4b0-4ab5-d642-f1575a0150e4"
      },
      "execution_count": 20,
      "outputs": [
        {
          "output_type": "execute_result",
          "data": {
            "text/plain": [
              "0.8884688090737239"
            ]
          },
          "metadata": {},
          "execution_count": 20
        }
      ]
    },
    {
      "cell_type": "code",
      "source": [
        "tsne = TSNE(2)\n",
        "tsne_result = tsne.fit_transform(rs)"
      ],
      "metadata": {
        "colab": {
          "base_uri": "https://localhost:8080/"
        },
        "id": "FAIZ0mRq8pwT",
        "outputId": "c825bf8f-0db5-418e-dac6-62501263c765"
      },
      "execution_count": 21,
      "outputs": [
        {
          "output_type": "stream",
          "name": "stderr",
          "text": [
            "/usr/local/lib/python3.7/dist-packages/sklearn/manifold/_t_sne.py:783: FutureWarning: The default initialization in TSNE will change from 'random' to 'pca' in 1.2.\n",
            "  FutureWarning,\n",
            "/usr/local/lib/python3.7/dist-packages/sklearn/manifold/_t_sne.py:793: FutureWarning: The default learning rate in TSNE will change from 200.0 to 'auto' in 1.2.\n",
            "  FutureWarning,\n"
          ]
        }
      ]
    },
    {
      "cell_type": "code",
      "source": [
        "tsne_result_df = pd.DataFrame({'tsne_1': tsne_result[:,0], 'tsne_2': tsne_result[:,1], 'label': labels})\n",
        "fig, ax = plt.subplots(1)\n",
        "sns.scatterplot(x='tsne_1', y='tsne_2', hue='label', data=tsne_result_df, ax=ax,s=120)\n",
        "lim = (tsne_result.min()-5, tsne_result.max()+5)\n",
        "ax.set_xlim(lim)\n",
        "ax.set_ylim(lim)\n",
        "ax.set_aspect('equal')\n",
        "ax.legend(bbox_to_anchor=(1.05, 1), loc=2, borderaxespad=0.0)"
      ],
      "metadata": {
        "colab": {
          "base_uri": "https://localhost:8080/",
          "height": 297
        },
        "id": "ziNJMBvc88AR",
        "outputId": "d2064a67-eba6-40d1-d7c3-0dc2aa5e170d"
      },
      "execution_count": 22,
      "outputs": [
        {
          "output_type": "execute_result",
          "data": {
            "text/plain": [
              "<matplotlib.legend.Legend at 0x7f1f02f37210>"
            ]
          },
          "metadata": {},
          "execution_count": 22
        },
        {
          "output_type": "display_data",
          "data": {
            "text/plain": [
              "<Figure size 432x288 with 1 Axes>"
            ],
            "image/png": "[encoded data removed]"
          },
          "metadata": {
            "needs_background": "light"
          }
        }
      ]
    }
  ]
}